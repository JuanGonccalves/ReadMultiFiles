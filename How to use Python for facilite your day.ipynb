{
 "cells": [
  {
   "cell_type": "markdown",
   "id": "822ca584",
   "metadata": {},
   "source": [
    "# 00. Import Libraries:"
   ]
  },
  {
   "cell_type": "markdown",
   "id": "e836e1e3",
   "metadata": {},
   "source": [
    "<b><i>In this line import the principle libraries for work:</i></b>"
   ]
  },
  {
   "cell_type": "code",
   "execution_count": 18,
   "id": "521c8a5a",
   "metadata": {},
   "outputs": [],
   "source": [
    "import pandas as pd\n",
    "import os\n",
    "import time\n",
    "import win32com.client"
   ]
  },
  {
   "cell_type": "markdown",
   "id": "1300105a",
   "metadata": {},
   "source": [
    "## 01. List files in directory:"
   ]
  },
  {
   "cell_type": "code",
   "execution_count": 19,
   "id": "b301c111",
   "metadata": {},
   "outputs": [],
   "source": [
    "raiz = r'C:\\Users\\JUAN.MARTINS\\Portifolio\\Blog\\00. How to use Python for facilicite your day'\n",
    "directory = raiz + '\\\\' + '00. Bases'"
   ]
  },
  {
   "cell_type": "code",
   "execution_count": 20,
   "id": "459ed725",
   "metadata": {},
   "outputs": [
    {
     "name": "stdout",
     "output_type": "stream",
     "text": [
      "Files in directories: ['10-04-2024.xlsx', '11-04-2024.xlsx', '12-04-2024.xlsx', '13-04-2024.xlsx', '14-04-2024.xlsx']\n"
     ]
    }
   ],
   "source": [
    "# Read Files all files in directory:\n",
    "directory_list = os.listdir(directory)\n",
    "\n",
    "# prints all files\n",
    "print(f\"Files in directories: {directory_list}\")"
   ]
  },
  {
   "cell_type": "markdown",
   "id": "b08ce4f9",
   "metadata": {},
   "source": [
    "-<i> The reading directory return all files in directory, but I need only <b> xlsx </b> files </i>. \n",
    "<br>\n",
    "<br>\n",
    "<i> So in now time I filter so <b>only xlsx files!</b></i>"
   ]
  },
  {
   "cell_type": "markdown",
   "id": "f949b17b",
   "metadata": {},
   "source": [
    "## 01.1 Filter xlsx files:"
   ]
  },
  {
   "cell_type": "code",
   "execution_count": 21,
   "id": "588e1079",
   "metadata": {
    "scrolled": true
   },
   "outputs": [
    {
     "name": "stdout",
     "output_type": "stream",
     "text": [
      "Read the file: C:\\Users\\JUAN.MARTINS\\Portifolio\\Blog\\00. How to use Python for facilicite your day\\00. Bases\\10-04-2024.xlsx\n",
      "        Date        Name  Value\n",
      "0 2024-04-10        Juan      1\n",
      "1 2024-04-10      Mateus      2\n",
      "2 2024-04-10       Lucas      3\n",
      "3 2024-04-10       Jorge      4\n",
      "4 2024-04-10  Alessandro      5\n",
      "5 2024-04-10      Renato      6\n",
      "6 2024-04-10      Marcio      7\n",
      "7 2024-04-10        Alex      8\n",
      "8 2024-04-10        Andy      9\n",
      "9 2024-04-10    Princess     10\n",
      "Read the file: C:\\Users\\JUAN.MARTINS\\Portifolio\\Blog\\00. How to use Python for facilicite your day\\00. Bases\\11-04-2024.xlsx\n",
      "        Date        Name  Value\n",
      "0 2024-04-11        Juan     11\n",
      "1 2024-04-11      Mateus     12\n",
      "2 2024-04-11       Lucas     13\n",
      "3 2024-04-11       Jorge     14\n",
      "4 2024-04-11  Alessandro     15\n",
      "5 2024-04-11      Renato     16\n",
      "6 2024-04-11      Marcio     17\n",
      "7 2024-04-11        Alex     18\n",
      "8 2024-04-11        Andy     19\n",
      "9 2024-04-11    Princess     20\n",
      "Read the file: C:\\Users\\JUAN.MARTINS\\Portifolio\\Blog\\00. How to use Python for facilicite your day\\00. Bases\\12-04-2024.xlsx\n",
      "        Date        Name  Value\n",
      "0 2024-04-12        Juan     20\n",
      "1 2024-04-12      Mateus     21\n",
      "2 2024-04-12       Lucas     22\n",
      "3 2024-04-12       Jorge     23\n",
      "4 2024-04-12  Alessandro     24\n",
      "5 2024-04-12      Renato     25\n",
      "6 2024-04-12      Marcio     26\n",
      "7 2024-04-12        Alex     27\n",
      "8 2024-04-12        Andy     28\n",
      "9 2024-04-12    Princess     29\n",
      "Read the file: C:\\Users\\JUAN.MARTINS\\Portifolio\\Blog\\00. How to use Python for facilicite your day\\00. Bases\\13-04-2024.xlsx\n",
      "        Date        Name  Value\n",
      "0 2024-04-13        Juan     29\n",
      "1 2024-04-13      Mateus     30\n",
      "2 2024-04-13       Lucas     31\n",
      "3 2024-04-13       Jorge     32\n",
      "4 2024-04-13  Alessandro     33\n",
      "5 2024-04-13      Renato     34\n",
      "6 2024-04-13      Marcio     35\n",
      "7 2024-04-13        Alex     36\n",
      "8 2024-04-13        Andy     37\n",
      "9 2024-04-13    Princess     38\n",
      "Read the file: C:\\Users\\JUAN.MARTINS\\Portifolio\\Blog\\00. How to use Python for facilicite your day\\00. Bases\\14-04-2024.xlsx\n",
      "        Date        Name  Value\n",
      "0 2024-04-13        Juan     29\n",
      "1 2024-04-13      Mateus     30\n",
      "2 2024-04-13       Lucas     31\n",
      "3 2024-04-13       Jorge     32\n",
      "4 2024-04-13  Alessandro     33\n",
      "5 2024-04-13      Renato     34\n",
      "6 2024-04-13      Marcio     35\n",
      "7 2024-04-13        Alex     36\n",
      "8 2024-04-13        Andy     37\n",
      "9 2024-04-13    Princess     38\n"
     ]
    }
   ],
   "source": [
    "# Lista para armazenar arquivos Excel\n",
    "excel = []\n",
    "\n",
    "# Listar os arquivos no diretório especificado\n",
    "files = os.listdir(directory)\n",
    "\n",
    "# Percorrer os arquivos no diretório\n",
    "for file in files:\n",
    "    if file.endswith('.xlsx'):\n",
    "        # Adiciona o caminho completo do arquivo à lista\n",
    "        df = pd.read_excel(os.path.join(directory, file))\n",
    "        excel.append(df)\n",
    "        print(f\"Read the file: {os.path.join(directory, file)}\")\n",
    "        print(df)"
   ]
  },
  {
   "cell_type": "markdown",
   "id": "c07fa39e",
   "metadata": {},
   "source": [
    "## 02. Convert a List to Pandas Dataframe:"
   ]
  },
  {
   "cell_type": "code",
   "execution_count": 22,
   "id": "ea997345",
   "metadata": {
    "scrolled": true
   },
   "outputs": [],
   "source": [
    "# Concatenar os DataFrames em um único DataFrame\n",
    "base = pd.concat(excel, ignore_index=True)"
   ]
  },
  {
   "cell_type": "markdown",
   "id": "c3f4e304",
   "metadata": {},
   "source": [
    "*<i> Reading the <b>first</b> 5 lines </i>"
   ]
  },
  {
   "cell_type": "code",
   "execution_count": 23,
   "id": "c1539c53",
   "metadata": {},
   "outputs": [
    {
     "data": {
      "text/html": [
       "<div>\n",
       "<style scoped>\n",
       "    .dataframe tbody tr th:only-of-type {\n",
       "        vertical-align: middle;\n",
       "    }\n",
       "\n",
       "    .dataframe tbody tr th {\n",
       "        vertical-align: top;\n",
       "    }\n",
       "\n",
       "    .dataframe thead th {\n",
       "        text-align: right;\n",
       "    }\n",
       "</style>\n",
       "<table border=\"1\" class=\"dataframe\">\n",
       "  <thead>\n",
       "    <tr style=\"text-align: right;\">\n",
       "      <th></th>\n",
       "      <th>Date</th>\n",
       "      <th>Name</th>\n",
       "      <th>Value</th>\n",
       "    </tr>\n",
       "  </thead>\n",
       "  <tbody>\n",
       "    <tr>\n",
       "      <th>0</th>\n",
       "      <td>2024-04-10</td>\n",
       "      <td>Juan</td>\n",
       "      <td>1</td>\n",
       "    </tr>\n",
       "    <tr>\n",
       "      <th>1</th>\n",
       "      <td>2024-04-10</td>\n",
       "      <td>Mateus</td>\n",
       "      <td>2</td>\n",
       "    </tr>\n",
       "    <tr>\n",
       "      <th>2</th>\n",
       "      <td>2024-04-10</td>\n",
       "      <td>Lucas</td>\n",
       "      <td>3</td>\n",
       "    </tr>\n",
       "    <tr>\n",
       "      <th>3</th>\n",
       "      <td>2024-04-10</td>\n",
       "      <td>Jorge</td>\n",
       "      <td>4</td>\n",
       "    </tr>\n",
       "    <tr>\n",
       "      <th>4</th>\n",
       "      <td>2024-04-10</td>\n",
       "      <td>Alessandro</td>\n",
       "      <td>5</td>\n",
       "    </tr>\n",
       "  </tbody>\n",
       "</table>\n",
       "</div>"
      ],
      "text/plain": [
       "        Date        Name  Value\n",
       "0 2024-04-10        Juan      1\n",
       "1 2024-04-10      Mateus      2\n",
       "2 2024-04-10       Lucas      3\n",
       "3 2024-04-10       Jorge      4\n",
       "4 2024-04-10  Alessandro      5"
      ]
     },
     "execution_count": 23,
     "metadata": {},
     "output_type": "execute_result"
    }
   ],
   "source": [
    "base.head()"
   ]
  },
  {
   "cell_type": "markdown",
   "id": "2f68ae17",
   "metadata": {},
   "source": [
    "*<i> Reading the <b>last</b> 5 lines </i>"
   ]
  },
  {
   "cell_type": "code",
   "execution_count": 24,
   "id": "07b47602",
   "metadata": {},
   "outputs": [
    {
     "data": {
      "text/html": [
       "<div>\n",
       "<style scoped>\n",
       "    .dataframe tbody tr th:only-of-type {\n",
       "        vertical-align: middle;\n",
       "    }\n",
       "\n",
       "    .dataframe tbody tr th {\n",
       "        vertical-align: top;\n",
       "    }\n",
       "\n",
       "    .dataframe thead th {\n",
       "        text-align: right;\n",
       "    }\n",
       "</style>\n",
       "<table border=\"1\" class=\"dataframe\">\n",
       "  <thead>\n",
       "    <tr style=\"text-align: right;\">\n",
       "      <th></th>\n",
       "      <th>Date</th>\n",
       "      <th>Name</th>\n",
       "      <th>Value</th>\n",
       "    </tr>\n",
       "  </thead>\n",
       "  <tbody>\n",
       "    <tr>\n",
       "      <th>45</th>\n",
       "      <td>2024-04-13</td>\n",
       "      <td>Renato</td>\n",
       "      <td>34</td>\n",
       "    </tr>\n",
       "    <tr>\n",
       "      <th>46</th>\n",
       "      <td>2024-04-13</td>\n",
       "      <td>Marcio</td>\n",
       "      <td>35</td>\n",
       "    </tr>\n",
       "    <tr>\n",
       "      <th>47</th>\n",
       "      <td>2024-04-13</td>\n",
       "      <td>Alex</td>\n",
       "      <td>36</td>\n",
       "    </tr>\n",
       "    <tr>\n",
       "      <th>48</th>\n",
       "      <td>2024-04-13</td>\n",
       "      <td>Andy</td>\n",
       "      <td>37</td>\n",
       "    </tr>\n",
       "    <tr>\n",
       "      <th>49</th>\n",
       "      <td>2024-04-13</td>\n",
       "      <td>Princess</td>\n",
       "      <td>38</td>\n",
       "    </tr>\n",
       "  </tbody>\n",
       "</table>\n",
       "</div>"
      ],
      "text/plain": [
       "         Date      Name  Value\n",
       "45 2024-04-13    Renato     34\n",
       "46 2024-04-13    Marcio     35\n",
       "47 2024-04-13      Alex     36\n",
       "48 2024-04-13      Andy     37\n",
       "49 2024-04-13  Princess     38"
      ]
     },
     "execution_count": 24,
     "metadata": {},
     "output_type": "execute_result"
    }
   ],
   "source": [
    "base.tail()"
   ]
  },
  {
   "cell_type": "markdown",
   "id": "f6de2d76",
   "metadata": {},
   "source": [
    "## 02.1 Save in Csv:"
   ]
  },
  {
   "cell_type": "markdown",
   "id": "7fb88af7",
   "metadata": {},
   "source": [
    "<i><b>It is important to save in csv because depending on the file size, Excel will exceed the line limit!</b></i>"
   ]
  },
  {
   "cell_type": "code",
   "execution_count": 25,
   "id": "578b0ceb",
   "metadata": {},
   "outputs": [],
   "source": [
    "filesAll = raiz + '\\\\' + '01. Report' + '\\\\' + 'All_Files.csv'\n",
    "base.to_csv(filesAll)"
   ]
  },
  {
   "cell_type": "markdown",
   "id": "5e0a77d4",
   "metadata": {},
   "source": [
    "## 03. Open Excel and Refresh Pivot table:"
   ]
  },
  {
   "cell_type": "code",
   "execution_count": 27,
   "id": "87fac1b4",
   "metadata": {},
   "outputs": [
    {
     "name": "stdout",
     "output_type": "stream",
     "text": [
      "Waiting... 10 seconds left\n",
      "Waiting... 9 seconds left\n",
      "Waiting... 8 seconds left\n",
      "Waiting... 7 seconds left\n",
      "Waiting... 6 seconds left\n",
      "Waiting... 5 seconds left\n",
      "Waiting... 4 seconds left\n",
      "Waiting... 3 seconds left\n",
      "Waiting... 2 seconds left\n",
      "Waiting... 1 seconds left\n"
     ]
    }
   ],
   "source": [
    "def Refresh_Tbl():\n",
    "    \n",
    "    # Contador\n",
    "    for i in range(10, 0, -1):\n",
    "        print(f\"Waiting... {i} seconds left\")\n",
    "        time.sleep(1)\n",
    "    \n",
    "    os.system(\"taskkill /f /im excel.exe\")\n",
    "    arquivo = r'C:\\Users\\JUAN.MARTINS\\Portifolio\\Blog\\00. How to use Python for facilicite your day\\01. Report\\Report.xlsx'\n",
    "\n",
    "    xl = win32com.client.DispatchEx(\"Excel.Application\")\n",
    "    wb = xl.workbooks.open(arquivo)\n",
    "\n",
    "    xl.Visible = True\n",
    "    wb.RefreshAll()\n",
    "\n",
    "    wb.Save()\n",
    "    xl.Quit()\n",
    "\n",
    "Refresh_Tbl()"
   ]
  },
  {
   "cell_type": "code",
   "execution_count": null,
   "id": "88f630b7",
   "metadata": {},
   "outputs": [],
   "source": []
  }
 ],
 "metadata": {
  "kernelspec": {
   "display_name": "Python 3 (ipykernel)",
   "language": "python",
   "name": "python3"
  },
  "language_info": {
   "codemirror_mode": {
    "name": "ipython",
    "version": 3
   },
   "file_extension": ".py",
   "mimetype": "text/x-python",
   "name": "python",
   "nbconvert_exporter": "python",
   "pygments_lexer": "ipython3",
   "version": "3.9.12"
  }
 },
 "nbformat": 4,
 "nbformat_minor": 5
}
